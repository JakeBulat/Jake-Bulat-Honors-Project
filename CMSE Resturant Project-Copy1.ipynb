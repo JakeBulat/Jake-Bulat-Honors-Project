{
 "cells": [
  {
   "cell_type": "code",
   "execution_count": null,
   "id": "e71d02c3",
   "metadata": {},
   "outputs": [],
   "source": [
    "#REVENUE PORTION"
   ]
  },
  {
   "cell_type": "code",
   "execution_count": 23,
   "id": "9f9ec295",
   "metadata": {},
   "outputs": [
    {
     "data": {
      "image/png": "[encoded data removed]",
      "text/plain": [
       "<Figure size 432x288 with 1 Axes>"
      ]
     },
     "metadata": {
      "needs_background": "light"
     },
     "output_type": "display_data"
    }
   ],
   "source": [
    "#total revenue per category of place\n",
    "food_category=[\"burger\", \"snack\", \"chicken\", \"global\", \"pizza\", \"sandwich\"]\n",
    "rev_sum = []\n",
    "\n",
    " \n",
    "for i in range(len(food_category)):\n",
    "    mask = rest_rev['category']==food_category[i] \n",
    "    fc = rest_rev[mask] #using masking to loop through the different food categorys\n",
    "    x = fc['sales_in_millions_2019'].sum()\n",
    "    rev_sum.append(x)\n",
    "\n",
    "\n",
    "plt.bar(food_category,rev_sum)\n",
    "plt.xlabel('Food Category')\n",
    "plt.ylabel('Revenue in Millions')\n",
    "plt.title('Revenue by Food Category in 2019')\n",
    "plt.show()"
   ]
  },
  {
   "cell_type": "code",
   "execution_count": 25,
   "id": "82b3e0be",
   "metadata": {},
   "outputs": [
    {
     "data": {
      "image/png": "[encoded data removed]",
      "text/plain": [
       "<Figure size 432x288 with 1 Axes>"
      ]
     },
     "metadata": {
      "needs_background": "light"
     },
     "output_type": "display_data"
    }
   ],
   "source": [
    "#This shows the revenue per type of category divided by the amount of franchises\n",
    "#This then gives us the amount of sales in millions per franchise showing a better representation of how successful they are individually\n",
    "#this is a simpler way that I used and it shows the sales in millions per franchise\n",
    "sales_per_franchise = (rest_rev.groupby('category').sum()['sales_in_millions_2019'])/(rest_rev.groupby('category').sum()['franchised_units_2019'])\n",
    "plt.bar(food_category,sales_per_franchise)\n",
    "plt.xlabel('Food Category')\n",
    "plt.ylabel('Revenue in Millions')\n",
    "plt.title('Revenue by Food Category in 2019')\n",
    "plt.show()"
   ]
  },
  {
   "cell_type": "code",
   "execution_count": null,
   "id": "56946454",
   "metadata": {},
   "outputs": [],
   "source": [
    "#Now we are looking at the best location for stores"
   ]
  },
  {
   "cell_type": "code",
   "execution_count": 17,
   "id": "6e78f3d0",
   "metadata": {},
   "outputs": [
    {
     "data": {
      "text/html": [
       "<div>\n",
       "<style scoped>\n",
       "    .dataframe tbody tr th:only-of-type {\n",
       "        vertical-align: middle;\n",
       "    }\n",
       "\n",
       "    .dataframe tbody tr th {\n",
       "        vertical-align: top;\n",
       "    }\n",
       "\n",
       "    .dataframe thead th {\n",
       "        text-align: right;\n",
       "    }\n",
       "</style>\n",
       "<table border=\"1\" class=\"dataframe\">\n",
       "  <thead>\n",
       "    <tr style=\"text-align: right;\">\n",
       "      <th></th>\n",
       "      <th>address</th>\n",
       "      <th>categories</th>\n",
       "      <th>primaryCategories</th>\n",
       "      <th>city</th>\n",
       "      <th>country</th>\n",
       "      <th>latitude</th>\n",
       "      <th>longitude</th>\n",
       "      <th>name</th>\n",
       "      <th>postalCode</th>\n",
       "      <th>province</th>\n",
       "    </tr>\n",
       "  </thead>\n",
       "  <tbody>\n",
       "    <tr>\n",
       "      <th>0</th>\n",
       "      <td>2555 11th Avenue</td>\n",
       "      <td>Fast Food Restaurants,Hamburgers and Hot Dogs,...</td>\n",
       "      <td>Accommodation &amp; Food Services</td>\n",
       "      <td>Greeley</td>\n",
       "      <td>US</td>\n",
       "      <td>40.396290</td>\n",
       "      <td>-104.696990</td>\n",
       "      <td>Carl's Jr.</td>\n",
       "      <td>80631</td>\n",
       "      <td>CO</td>\n",
       "    </tr>\n",
       "    <tr>\n",
       "      <th>1</th>\n",
       "      <td>2513 Highway 6 And 50</td>\n",
       "      <td>Restaurant,Mexican Restaurants,Fast Food Resta...</td>\n",
       "      <td>Accommodation &amp; Food Services</td>\n",
       "      <td>Grand Junction</td>\n",
       "      <td>US</td>\n",
       "      <td>39.081350</td>\n",
       "      <td>-108.586890</td>\n",
       "      <td>Del Taco</td>\n",
       "      <td>81505</td>\n",
       "      <td>CO</td>\n",
       "    </tr>\n",
       "    <tr>\n",
       "      <th>2</th>\n",
       "      <td>1125 Patterson Road</td>\n",
       "      <td>Sandwich Shops,Fast Food Restaurants,Restauran...</td>\n",
       "      <td>Accommodation &amp; Food Services</td>\n",
       "      <td>Grand Junction</td>\n",
       "      <td>US</td>\n",
       "      <td>39.091480</td>\n",
       "      <td>-108.554110</td>\n",
       "      <td>Which Wich</td>\n",
       "      <td>81506</td>\n",
       "      <td>CO</td>\n",
       "    </tr>\n",
       "    <tr>\n",
       "      <th>3</th>\n",
       "      <td>3455 N Salida Court</td>\n",
       "      <td>Fast Food Restaurants,Mexican Restaurants,Rest...</td>\n",
       "      <td>Accommodation &amp; Food Services</td>\n",
       "      <td>Aurora</td>\n",
       "      <td>US</td>\n",
       "      <td>39.763690</td>\n",
       "      <td>-104.776710</td>\n",
       "      <td>Chipotle Mexican Grill</td>\n",
       "      <td>80011</td>\n",
       "      <td>CO</td>\n",
       "    </tr>\n",
       "    <tr>\n",
       "      <th>4</th>\n",
       "      <td>5225 E Colfax Avenue</td>\n",
       "      <td>Fast Food Restaurants,Mexican Restaurants,Rest...</td>\n",
       "      <td>Accommodation &amp; Food Services</td>\n",
       "      <td>Denver</td>\n",
       "      <td>US</td>\n",
       "      <td>39.740440</td>\n",
       "      <td>-104.926360</td>\n",
       "      <td>Taco Bell</td>\n",
       "      <td>80220</td>\n",
       "      <td>CO</td>\n",
       "    </tr>\n",
       "    <tr>\n",
       "      <th>...</th>\n",
       "      <td>...</td>\n",
       "      <td>...</td>\n",
       "      <td>...</td>\n",
       "      <td>...</td>\n",
       "      <td>...</td>\n",
       "      <td>...</td>\n",
       "      <td>...</td>\n",
       "      <td>...</td>\n",
       "      <td>...</td>\n",
       "      <td>...</td>\n",
       "    </tr>\n",
       "    <tr>\n",
       "      <th>9995</th>\n",
       "      <td>1803 Carolina Ave</td>\n",
       "      <td>American Restaurants,Caterers,Soul Food Restau...</td>\n",
       "      <td>Accommodation &amp; Food Services</td>\n",
       "      <td>Bessemer</td>\n",
       "      <td>US</td>\n",
       "      <td>33.399574</td>\n",
       "      <td>-86.951050</td>\n",
       "      <td>Church's Chicken Of Birmingham</td>\n",
       "      <td>35020</td>\n",
       "      <td>AL</td>\n",
       "    </tr>\n",
       "    <tr>\n",
       "      <th>9996</th>\n",
       "      <td>8511 Cantilever Way Ste 105</td>\n",
       "      <td>Mexican Restaurants,Caterers,Delicatessens,Iri...</td>\n",
       "      <td>Accommodation &amp; Food Services</td>\n",
       "      <td>Raleigh</td>\n",
       "      <td>US</td>\n",
       "      <td>35.884500</td>\n",
       "      <td>-78.737541</td>\n",
       "      <td>Luxury Box</td>\n",
       "      <td>27613-6996</td>\n",
       "      <td>NC</td>\n",
       "    </tr>\n",
       "    <tr>\n",
       "      <th>9997</th>\n",
       "      <td>2601 Plover Rd</td>\n",
       "      <td>Carry-out food,Hot dog restaurants,Fast Food R...</td>\n",
       "      <td>Accommodation &amp; Food Services</td>\n",
       "      <td>Plover</td>\n",
       "      <td>US</td>\n",
       "      <td>44.453180</td>\n",
       "      <td>-89.543170</td>\n",
       "      <td>McDonald's</td>\n",
       "      <td>54467</td>\n",
       "      <td>WI</td>\n",
       "    </tr>\n",
       "    <tr>\n",
       "      <th>9998</th>\n",
       "      <td>170 E Main St</td>\n",
       "      <td>Carry-out food,Caterers,Restaurant delivery se...</td>\n",
       "      <td>Accommodation &amp; Food Services</td>\n",
       "      <td>Hendersonville</td>\n",
       "      <td>US</td>\n",
       "      <td>36.308262</td>\n",
       "      <td>-86.607339</td>\n",
       "      <td>Pizza Hut</td>\n",
       "      <td>37075</td>\n",
       "      <td>TN</td>\n",
       "    </tr>\n",
       "    <tr>\n",
       "      <th>9999</th>\n",
       "      <td>3400 Westgate Drive</td>\n",
       "      <td>Fast Food Restaurant,Restaurants</td>\n",
       "      <td>Accommodation &amp; Food Services</td>\n",
       "      <td>Durham</td>\n",
       "      <td>US</td>\n",
       "      <td>35.965869</td>\n",
       "      <td>-78.963366</td>\n",
       "      <td>Burger King</td>\n",
       "      <td>27707-2696</td>\n",
       "      <td>NC</td>\n",
       "    </tr>\n",
       "  </tbody>\n",
       "</table>\n",
       "<p>10000 rows × 10 columns</p>\n",
       "</div>"
      ],
      "text/plain": [
       "                          address  \\\n",
       "0                2555 11th Avenue   \n",
       "1           2513 Highway 6 And 50   \n",
       "2             1125 Patterson Road   \n",
       "3             3455 N Salida Court   \n",
       "4            5225 E Colfax Avenue   \n",
       "...                           ...   \n",
       "9995            1803 Carolina Ave   \n",
       "9996  8511 Cantilever Way Ste 105   \n",
       "9997               2601 Plover Rd   \n",
       "9998                170 E Main St   \n",
       "9999          3400 Westgate Drive   \n",
       "\n",
       "                                             categories  \\\n",
       "0     Fast Food Restaurants,Hamburgers and Hot Dogs,...   \n",
       "1     Restaurant,Mexican Restaurants,Fast Food Resta...   \n",
       "2     Sandwich Shops,Fast Food Restaurants,Restauran...   \n",
       "3     Fast Food Restaurants,Mexican Restaurants,Rest...   \n",
       "4     Fast Food Restaurants,Mexican Restaurants,Rest...   \n",
       "...                                                 ...   \n",
       "9995  American Restaurants,Caterers,Soul Food Restau...   \n",
       "9996  Mexican Restaurants,Caterers,Delicatessens,Iri...   \n",
       "9997  Carry-out food,Hot dog restaurants,Fast Food R...   \n",
       "9998  Carry-out food,Caterers,Restaurant delivery se...   \n",
       "9999                   Fast Food Restaurant,Restaurants   \n",
       "\n",
       "                  primaryCategories            city country   latitude  \\\n",
       "0     Accommodation & Food Services         Greeley      US  40.396290   \n",
       "1     Accommodation & Food Services  Grand Junction      US  39.081350   \n",
       "2     Accommodation & Food Services  Grand Junction      US  39.091480   \n",
       "3     Accommodation & Food Services          Aurora      US  39.763690   \n",
       "4     Accommodation & Food Services          Denver      US  39.740440   \n",
       "...                             ...             ...     ...        ...   \n",
       "9995  Accommodation & Food Services        Bessemer      US  33.399574   \n",
       "9996  Accommodation & Food Services         Raleigh      US  35.884500   \n",
       "9997  Accommodation & Food Services          Plover      US  44.453180   \n",
       "9998  Accommodation & Food Services  Hendersonville      US  36.308262   \n",
       "9999  Accommodation & Food Services          Durham      US  35.965869   \n",
       "\n",
       "       longitude                            name  postalCode province  \n",
       "0    -104.696990                      Carl's Jr.       80631       CO  \n",
       "1    -108.586890                        Del Taco       81505       CO  \n",
       "2    -108.554110                      Which Wich       81506       CO  \n",
       "3    -104.776710          Chipotle Mexican Grill       80011       CO  \n",
       "4    -104.926360                       Taco Bell       80220       CO  \n",
       "...          ...                             ...         ...      ...  \n",
       "9995  -86.951050  Church's Chicken Of Birmingham       35020       AL  \n",
       "9996  -78.737541                      Luxury Box  27613-6996       NC  \n",
       "9997  -89.543170                      McDonald's       54467       WI  \n",
       "9998  -86.607339                       Pizza Hut       37075       TN  \n",
       "9999  -78.963366                     Burger King  27707-2696       NC  \n",
       "\n",
       "[10000 rows x 10 columns]"
      ]
     },
     "execution_count": 17,
     "metadata": {},
     "output_type": "execute_result"
    }
   ],
   "source": [
    "#location data set\n",
    "import pandas as pd\n",
    "import numpy as np\n",
    "import matplotlib.pyplot as plt\n",
    "from numpy import ma\n",
    "\n",
    "#resturant locations\n",
    "rest_loc = pd.read_csv('Datafiniti_Fast_Food_Restaurants_Jun19.csv')\n",
    "rest_loc.drop(columns=['id', 'dateAdded', 'dateUpdated', 'keys', 'sourceURLs', 'websites'])\n",
    "\n",
    "\n"
   ]
  },
  {
   "cell_type": "code",
   "execution_count": 26,
   "id": "6b9bb91a",
   "metadata": {},
   "outputs": [
    {
     "data": {
      "text/plain": [
       "1907"
      ]
     },
     "execution_count": 26,
     "metadata": {},
     "output_type": "execute_result"
    }
   ],
   "source": [
    "first_longitude = (rest_loc['longitude']>=-125.0) & (rest_loc['longitude']<-110.0) #this is longitudes every 15 longitudes\n",
    "first_longitude = rest_loc[first_longitude]\n",
    "first_longitude.drop(columns=['id', 'dateAdded', 'dateUpdated', 'keys', 'sourceURLs', 'websites'])\n",
    "first_name_list =  list(first_longitude[\"name\"])\n",
    "len(first_name_list)"
   ]
  },
  {
   "cell_type": "code",
   "execution_count": 27,
   "id": "4905ddb2",
   "metadata": {},
   "outputs": [
    {
     "data": {
      "text/plain": [
       "985"
      ]
     },
     "execution_count": 27,
     "metadata": {},
     "output_type": "execute_result"
    }
   ],
   "source": [
    "second_longitude = (rest_loc['longitude']>=-110.0) & (rest_loc['longitude']<-95.0)\n",
    "second_longitude = rest_loc[second_longitude]\n",
    "second_longitude.drop(columns=['id', 'dateAdded', 'dateUpdated', 'keys', 'sourceURLs', 'websites'])\n",
    "second_name_list =  list(second_longitude[\"name\"])\n",
    "len(second_name_list)"
   ]
  },
  {
   "cell_type": "code",
   "execution_count": 28,
   "id": "d28dbbe2",
   "metadata": {},
   "outputs": [
    {
     "data": {
      "text/plain": [
       "5686"
      ]
     },
     "execution_count": 28,
     "metadata": {},
     "output_type": "execute_result"
    }
   ],
   "source": [
    "third_longitude = (rest_loc['longitude']>=-95.0) & (rest_loc['longitude']<-80.0)\n",
    "third_longitude = rest_loc[third_longitude]\n",
    "third_longitude.drop(columns=['id', 'dateAdded', 'dateUpdated', 'keys', 'sourceURLs', 'websites'])\n",
    "third_name_list =  list(third_longitude[\"name\"])\n",
    "len(third_name_list)"
   ]
  },
  {
   "cell_type": "code",
   "execution_count": 29,
   "id": "04cf3711",
   "metadata": {},
   "outputs": [
    {
     "data": {
      "text/plain": [
       "1267"
      ]
     },
     "execution_count": 29,
     "metadata": {},
     "output_type": "execute_result"
    }
   ],
   "source": [
    "fourth_longitude = (rest_loc['longitude']>=-80.0) & (rest_loc['longitude']<-65.0)\n",
    "fourth_longitude = rest_loc[fourth_longitude]\n",
    "fourth_longitude.drop(columns=['id', 'dateAdded', 'dateUpdated', 'keys', 'sourceURLs', 'websites'])\n",
    "fourth_name_list =  list(fourth_longitude[\"name\"])\n",
    "len(fourth_name_list)"
   ]
  },
  {
   "cell_type": "code",
   "execution_count": 33,
   "id": "f5d1431d",
   "metadata": {},
   "outputs": [
    {
     "data": {
      "image/png": "[encoded data removed]",
      "text/plain": [
       "<Figure size 432x288 with 1 Axes>"
      ]
     },
     "metadata": {
      "needs_background": "light"
     },
     "output_type": "display_data"
    }
   ],
   "source": [
    "Amount_of_Restaurants = [1907,985,5686,1267]\n",
    "Sections_of_Longitude= ['-125 to -110', '-110 to -95','-95 - -80','-80 - -65']\n",
    "plt.bar(Sections_of_Longitude, Amount_of_Restaurants)\n",
    "plt.xlabel('Longitude Sectors')\n",
    "plt.ylabel('Fast Food Franchises')\n",
    "plt.title('Amount of Fast Food Franchises Per Longitude Sector')\n",
    "plt.show()"
   ]
  },
  {
   "cell_type": "markdown",
   "id": "35c8967d",
   "metadata": {},
   "source": [
    "Looking at the data above dividing the USA into different sections of longitiude we can see that the third section of longitude from -95 to -80 is where the majority of the fast food chains are"
   ]
  },
  {
   "cell_type": "markdown",
   "id": "36be8ab0",
   "metadata": {},
   "source": [
    "We are now looking at the specifics of the resturants such as wages "
   ]
  },
  {
   "cell_type": "code",
   "execution_count": 37,
   "id": "3d26bf0a",
   "metadata": {},
   "outputs": [
    {
     "data": {
      "image/png": "[encoded data removed]",
      "text/plain": [
       "<Figure size 432x288 with 1 Axes>"
      ]
     },
     "metadata": {
      "needs_background": "light"
     },
     "output_type": "display_data"
    }
   ],
   "source": [
    "#these are some the top restaurant wages\n",
    "top_ff_wages = pd.read_csv('Fast Food Wages.csv')\n",
    "x = top_ff_wages['Store Name']\n",
    "y = x = top_ff_wages['Average Wage']\n",
    "plt.bar(x,y)\n",
    "plt.xlabel('Food Category')\n",
    "plt.ylabel('Revenue in Millions')\n",
    "plt.title('Revenue by Food Category in 2019')\n",
    "plt.show()"
   ]
  },
  {
   "cell_type": "code",
   "execution_count": 38,
   "id": "5686814f",
   "metadata": {},
   "outputs": [
    {
     "data": {
      "text/plain": [
       "0          Mcdonalds\n",
       "1          Starbucks\n",
       "2        Chick_fil_a\n",
       "3          Taco_bell\n",
       "4        Burger_king\n",
       "5             Subway\n",
       "6             Wendys\n",
       "7             Dunkin\n",
       "8            Dominos\n",
       "9       Panera_bread\n",
       "10          chipolte\n",
       "11         pizza_hut\n",
       "12               kfc\n",
       "13    sonic_drive_in\n",
       "Name: Store Name, dtype: object"
      ]
     },
     "execution_count": 38,
     "metadata": {},
     "output_type": "execute_result"
    }
   ],
   "source": [
    "top_ff_wages['Store Name']"
   ]
  },
  {
   "cell_type": "code",
   "execution_count": null,
   "id": "f029ef64",
   "metadata": {},
   "outputs": [],
   "source": []
  }
 ],
 "metadata": {
  "kernelspec": {
   "display_name": "Python 3",
   "language": "python",
   "name": "python3"
  },
  "language_info": {
   "codemirror_mode": {
    "name": "ipython",
    "version": 3
   },
   "file_extension": ".py",
   "mimetype": "text/x-python",
   "name": "python",
   "nbconvert_exporter": "python",
   "pygments_lexer": "ipython3",
   "version": "3.8.8"
  }
 },
 "nbformat": 4,
 "nbformat_minor": 5
}
